{
 "cells": [
  {
   "cell_type": "code",
   "execution_count": 268,
   "metadata": {
    "collapsed": true
   },
   "outputs": [],
   "source": [
    "import re\n",
    "import os\n",
    "import fnmatch\n",
    "from datetime import datetime,timedelta\n",
    "import numpy as np\n",
    "import pandas as pd\n",
    "import matplotlib.pylab as plt\n",
    "from collections import Counter,defaultdict\n",
    "%matplotlib inline  "
   ]
  },
  {
   "cell_type": "code",
   "execution_count": 269,
   "metadata": {
    "collapsed": false
   },
   "outputs": [],
   "source": [
    "ips = []\n",
    "messy_dates = []\n",
    "url = []\n",
    "ua1 = []\n",
    "ua2 = []\n",
    "code = []\n",
    "for file in os.listdir('./log_files'):\n",
    "    if fnmatch.fnmatch(file, 'access.log.*'):\n",
    "        for line in open('./log_files/'+file, 'r'):\n",
    "            clean_line = line.replace('\"',',').replace('- -', ',')\n",
    "            data_array = filter(None, re.split(\"[,]+\", clean_line))\n",
    "            info_within_parenthesis = re.findall(r'\\([^()]*\\)', data_array[6])\n",
    "            if (info_within_parenthesis!=[]):\n",
    "                splitted_info = re.split(\";\", info_within_parenthesis[0])\n",
    "                ua1.append(splitted_info[0].replace(\"(\",\"\"))\n",
    "                ua2.append(splitted_info[1].replace(\")\",\"\"))\n",
    "            else:\n",
    "                ua1.append('-')\n",
    "                ua2.append('-')\n",
    "            ips.append(data_array[0])\n",
    "            messy_dates.append(data_array[1].replace(\"[\", \"\").replace(\"]\", \"\").replace(\" \", \"\"))\n",
    "            if data_array[3][0:4] == '%20T':\n",
    "                code.append(int(data_array[4][0:4]))\n",
    "                url.append(data_array[5])\n",
    "            else:\n",
    "                code.append(int(data_array[3][0:4]))\n",
    "                url.append(data_array[4])"
   ]
  },
  {
   "cell_type": "code",
   "execution_count": 270,
   "metadata": {
    "collapsed": false
   },
   "outputs": [
    {
     "name": "stdout",
     "output_type": "stream",
     "text": [
      "['+0100' '+0200']\n"
     ]
    }
   ],
   "source": [
    "all_time_zones = []\n",
    "for date in messy_dates:\n",
    "    all_time_zones.append(date[-5:])\n",
    "print np.unique(all_time_zones)"
   ]
  },
  {
   "cell_type": "code",
   "execution_count": 271,
   "metadata": {
    "collapsed": false
   },
   "outputs": [],
   "source": [
    "def to_gmt(t):\n",
    "    ret = datetime.strptime(t[0:19],'%d/%b/%Y:%H:%M:%S')\n",
    "    if t[20]=='+':\n",
    "        ret+=timedelta(hours=int(t[21:23]))\n",
    "    elif t[18]=='-':\n",
    "        ret-=timedelta(hours=int(t[21:23]))\n",
    "    return ret"
   ]
  },
  {
   "cell_type": "code",
   "execution_count": 272,
   "metadata": {
    "collapsed": false
   },
   "outputs": [],
   "source": [
    "dates = []\n",
    "for date in messy_dates:\n",
    "    dates.append(to_gmt(date))"
   ]
  },
  {
   "cell_type": "code",
   "execution_count": 273,
   "metadata": {
    "collapsed": false
   },
   "outputs": [
    {
     "data": {
      "text/plain": [
       "(array([ 4926.,     0.,     0.,   547.,     0.,     0.,   160.,     0.,\n",
       "            0.,   127.]),\n",
       " array([ 200. ,  230.2,  260.4,  290.6,  320.8,  351. ,  381.2,  411.4,\n",
       "         441.6,  471.8,  502. ]),\n",
       " <a list of 10 Patch objects>)"
      ]
     },
     "execution_count": 273,
     "metadata": {},
     "output_type": "execute_result"
    },
    {
     "data": {
      "image/png": "[encoded data removed]",
      "text/plain": [
       "<matplotlib.figure.Figure at 0x10aac5150>"
      ]
     },
     "metadata": {},
     "output_type": "display_data"
    }
   ],
   "source": [
    "plt.hist(code)"
   ]
  },
  {
   "cell_type": "code",
   "execution_count": 274,
   "metadata": {
    "collapsed": false
   },
   "outputs": [
    {
     "data": {
      "text/plain": [
       "(array([ 5143.,     0.,     0.,   373.,    79.,     0.,     0.,     0.,\n",
       "            0.,   165.]),\n",
       " array([ 735946.53337963,  735966.43796412,  735986.34254861,\n",
       "         736006.2471331 ,  736026.15171759,  736046.05630208,\n",
       "         736065.96088657,  736085.86547106,  736105.77005556,\n",
       "         736125.67464005,  736145.57922454]),\n",
       " <a list of 10 Patch objects>)"
      ]
     },
     "execution_count": 274,
     "metadata": {},
     "output_type": "execute_result"
    },
    {
     "data": {
      "image/png": "[encoded data removed]",
      "text/plain": [
       "<matplotlib.figure.Figure at 0x10ff4eb50>"
      ]
     },
     "metadata": {},
     "output_type": "display_data"
    }
   ],
   "source": [
    "plt.hist(dates)"
   ]
  },
  {
   "cell_type": "code",
   "execution_count": 275,
   "metadata": {
    "collapsed": false
   },
   "outputs": [
    {
     "data": {
      "text/plain": [
       "<matplotlib.axes._subplots.AxesSubplot at 0x1101ab210>"
      ]
     },
     "execution_count": 275,
     "metadata": {},
     "output_type": "execute_result"
    },
    {
     "data": {
      "image/png": "[encoded data removed]",
      "text/plain": [
       "<matplotlib.figure.Figure at 0x10fec78d0>"
      ]
     },
     "metadata": {},
     "output_type": "display_data"
    }
   ],
   "source": [
    "list_url = []\n",
    "for domain in url:\n",
    "    if domain != '-':\n",
    "        if re.split('[/./]', domain[7:])[0]=='www':\n",
    "            list_url.append(re.split('[/./]', domain[7:])[1])\n",
    "        else:\n",
    "            list_url.append(re.split('[/./]', domain[7:])[0])\n",
    "            \n",
    "url_counts = Counter(list_url)\n",
    "df = pd.DataFrame.from_dict(url_counts, orient='index')\n",
    "df.plot(kind='bar')"
   ]
  },
  {
   "cell_type": "code",
   "execution_count": 276,
   "metadata": {
    "collapsed": false
   },
   "outputs": [
    {
     "data": {
      "text/plain": [
       "<matplotlib.axes._subplots.AxesSubplot at 0x10ff9ea10>"
      ]
     },
     "execution_count": 276,
     "metadata": {},
     "output_type": "execute_result"
    },
    {
     "data": {
      "image/png": "[encoded data removed]",
      "text/plain": [
       "<matplotlib.figure.Figure at 0x10cd471d0>"
      ]
     },
     "metadata": {},
     "output_type": "display_data"
    }
   ],
   "source": [
    "ua_counts = Counter(ua1)\n",
    "df = pd.DataFrame.from_dict(ua_counts, orient='index')\n",
    "df.plot(kind='bar')"
   ]
  },
  {
   "cell_type": "code",
   "execution_count": 277,
   "metadata": {
    "collapsed": false
   },
   "outputs": [],
   "source": [
    "ip_to_ua = defaultdict(set)"
   ]
  },
  {
   "cell_type": "code",
   "execution_count": 279,
   "metadata": {
    "collapsed": false
   },
   "outputs": [],
   "source": [
    "for i in xrange(0, len(ips)):\n",
    "    ip_to_ua[ips[i]].add(ua1[i])"
   ]
  },
  {
   "cell_type": "code",
   "execution_count": 280,
   "metadata": {
    "collapsed": false
   },
   "outputs": [
    {
     "data": {
      "text/plain": [
       "defaultdict(set,\n",
       "            {'192.168.2.1 ': {'X11'},\n",
       "             '192.168.2.103 ': {'Linux'},\n",
       "             '192.168.2.113 ': {'-', 'Windows NT 6.1'},\n",
       "             '192.168.2.114 ': {'Windows NT 6.3'},\n",
       "             '192.168.2.118 ': {'Linux'},\n",
       "             '192.168.2.140 ': {'X11'},\n",
       "             '192.168.2.143 ': {'Linux'},\n",
       "             '192.168.2.144 ': {'Linux'},\n",
       "             '192.168.2.171 ': {'Linux'},\n",
       "             '192.168.2.172 ': {'Windows NT 10.0'},\n",
       "             '192.168.2.173 ': {'Linux'},\n",
       "             '192.168.2.175 ': {'Android', 'Linux'},\n",
       "             '192.168.2.190 ': {'Linux'},\n",
       "             '192.168.2.192 ': {'-', 'iPhone'},\n",
       "             '192.168.2.199 ': {'Linux'},\n",
       "             '192.168.2.201 ': {'Android'},\n",
       "             '192.168.2.219 ': {'Windows NT 6.3'},\n",
       "             '192.168.2.220 ': {'X11'},\n",
       "             '192.168.2.221 ': {'-', 'Macintosh'},\n",
       "             '192.168.2.238 ': {'Linux'},\n",
       "             '192.168.2.239 ': {'Android', 'Linux'}})"
      ]
     },
     "execution_count": 280,
     "metadata": {},
     "output_type": "execute_result"
    }
   ],
   "source": [
    "# One ip does not always correspond to one ua\n",
    "ip_to_ua"
   ]
  },
  {
   "cell_type": "code",
   "execution_count": null,
   "metadata": {
    "collapsed": true
   },
   "outputs": [],
   "source": []
  }
 ],
 "metadata": {
  "kernelspec": {
   "display_name": "Python 2",
   "language": "python",
   "name": "python2"
  },
  "language_info": {
   "codemirror_mode": {
    "name": "ipython",
    "version": 2
   },
   "file_extension": ".py",
   "mimetype": "text/x-python",
   "name": "python",
   "nbconvert_exporter": "python",
   "pygments_lexer": "ipython2",
   "version": "2.7.11"
  }
 },
 "nbformat": 4,
 "nbformat_minor": 0
}
